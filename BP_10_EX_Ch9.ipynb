{
  "nbformat": 4,
  "nbformat_minor": 0,
  "metadata": {
    "colab": {
      "provenance": [],
      "authorship_tag": "ABX9TyN5adXWI6D3Iq4nJHiWqwDz",
      "include_colab_link": true
    },
    "kernelspec": {
      "name": "python3",
      "display_name": "Python 3"
    },
    "language_info": {
      "name": "python"
    }
  },
  "cells": [
    {
      "cell_type": "markdown",
      "metadata": {
        "id": "view-in-github",
        "colab_type": "text"
      },
      "source": [
        "<a href=\"https://colab.research.google.com/github/jaeyoung1122/BP_10_Ch9/blob/main/BP_10_EX_Ch9.ipynb\" target=\"_parent\"><img src=\"https://colab.research.google.com/assets/colab-badge.svg\" alt=\"Open In Colab\"/></a>"
      ]
    },
    {
      "cell_type": "code",
      "execution_count": 39,
      "metadata": {
        "colab": {
          "base_uri": "https://localhost:8080/"
        },
        "id": "BBWNRUbTqaiR",
        "outputId": "3c5d2fdd-6171-4304-f457-46aa1f424f0b"
      },
      "outputs": [
        {
          "output_type": "stream",
          "name": "stdout",
          "text": [
            "정수를 입력하시오: 10\n",
            "정수를 입력하시오: 20\n",
            "정수를 입력하시오: 30\n",
            "정수를 입력하시오: 40\n",
            "정수를 입력하시오: 50\n",
            "평균= 30.0\n"
          ]
        }
      ],
      "source": [
        "alist = []\n",
        "sum = 0\n",
        "for i in range(5): # 변수를 5가지 입력\n",
        " i = int(input(\"정수를 입력하시오: \")) #변수=정수\n",
        " alist.append(i)\n",
        "for i in alist:\n",
        " sum += i\n",
        "avg = sum/len(alist)\n",
        "print(\"평균=\", avg)  # 프린트 평균을 계산"
      ]
    },
    {
      "cell_type": "code",
      "source": [
        "import random # 랜덤 함수 불러오기\n",
        "counters = [0, 0, 0, 0, 0, 0]\n",
        "for i in range(1000): #반복문 1000번을 반복\n",
        " value = random.randint(0, 5)\n",
        " counters[value] = counters[value] + 1\n",
        "\n",
        "for i in range(6) : #반복문을 6번 반복\n",
        " print(\"주사위가 \", i+1, \"인 경우는 \", counters[i], \"번\")"
      ],
      "metadata": {
        "colab": {
          "base_uri": "https://localhost:8080/"
        },
        "id": "ofjAN_LxsRFu",
        "outputId": "d2de1383-77c5-45ae-a5ab-f21fbde0a85e"
      },
      "execution_count": null,
      "outputs": [
        {
          "output_type": "stream",
          "name": "stdout",
          "text": [
            "주사위가  1 인 경우는  162 번\n",
            "주사위가  2 인 경우는  166 번\n",
            "주사위가  3 인 경우는  161 번\n",
            "주사위가  4 인 경우는  160 번\n",
            "주사위가  5 인 경우는  160 번\n",
            "주사위가  6 인 경우는  191 번\n"
          ]
        }
      ]
    },
    {
      "cell_type": "code",
      "source": [
        "contacts = { }\n",
        "\n",
        "while True:\n",
        "       name = input(\"(입력모드)이름을 입력하시오: \")  #사람이름을  입력\n",
        "       if not name:\n",
        "               break;\n",
        "       tel = input(\"전화번호를 입력하시오: \")\n",
        "       contacts[name] = tel\n",
        "while True:\n",
        "       name = input(\"(검색모드)이름을 입력하시오: \")  # 전화번호를 입력\n",
        "       if not name:\n",
        "               break;\n",
        "       if name in contacts :\n",
        "               print(name, \"의 전화번호는\", contacts[name], \"입니다.\")\n",
        "        \n",
        "       else:\n",
        "         print(\"전화번호가 없습니다.'\")  # 사람이름이 없을때 전화번호가 없다고 뜸\n"
      ],
      "metadata": {
        "colab": {
          "base_uri": "https://localhost:8080/"
        },
        "id": "LUG5WgaTscHv",
        "outputId": "b29e004d-553a-4513-a54f-b44150308954"
      },
      "execution_count": 38,
      "outputs": [
        {
          "name": "stdout",
          "output_type": "stream",
          "text": [
            "(입력모드)이름을 입력하시오: 홍길동\n",
            "전화번호를 입력하시오: 111-2222\n",
            "(입력모드)이름을 입력하시오: 김철수\n",
            "전화번호를 입력하시오: 2222-3333\n",
            "(입력모드)이름을 입력하시오: \n",
            "(검색모드)이름을 입력하시오: 김철수\n",
            "김철수 의 전화번호는 2222-3333 입니다.\n",
            "(검색모드)이름을 입력하시오: 홍길동\n",
            "홍길동 의 전화번호는 111-2222 입니다.\n",
            "(검색모드)이름을 입력하시오: 정재영\n",
            "전화번호가 없습니다.'\n",
            "(검색모드)이름을 입력하시오: \n"
          ]
        }
      ]
    },
    {
      "cell_type": "code",
      "source": [
        "import turtle\n",
        "import random\n",
        "t = turtle.Turtle()\n",
        "t.shape(\"turtle\")\n",
        "def draw_square(x, y, c):\n",
        " t.up()\n",
        " t.goto(x, y)\n",
        " t.down()\n",
        " t.color(\"black\",c)\n",
        " t.begin_fill()\n",
        " t.forward(100)\n",
        " t.left(90)\n",
        " t.forward(100)\n",
        " t.left(90)\n",
        " t.forward(100)\n",
        " t.left(90)\n",
        " t.forward(100)\n",
        " t.left(90)\n",
        " t.end_fill()\n",
        "for c in [\"yellow\", \"red\", \"purple\", \"blue\"]: #색은 노랑 레드 보라 파랑\n",
        " x = random.randint(-100, 100)\n",
        " y = random.randint(-100, 100)\n",
        " draw_square(x, y, c)"
      ],
      "metadata": {
        "id": "9pWWSFZwskbO"
      },
      "execution_count": null,
      "outputs": []
    },
    {
      "cell_type": "code",
      "source": [
        "import turtle\n",
        "import random\n",
        "\n",
        "\n",
        "t = turtle.Turtle()\n",
        "s = turtle.Screen()\n",
        "\n",
        "def draw_shape(t, c, length, sides, x, y):\n",
        "    t.up()\n",
        "    t.goto(x, y)\n",
        "    t.down()\n",
        "    t.fillcolor(c)\n",
        "    angle = 360.0 / sides\n",
        "    t.begin_fill()\n",
        "    for dist in range(sides):\n",
        "        t.forward(length)\n",
        "        t.left(angle)\n",
        "    t.end_fill()\n",
        "\n",
        "for i in range(10):\n",
        "    color = random.choice([ 'white', 'yellow', 'blue', 'skyblue', 'orange', 'green' ]) #색은 하양 노랑 파랑 하늘 주황 초록\n",
        "    side_length = random.randint(10, 100)\n",
        "    sides = random.randint(3, 10)\n",
        "    x = random.randint(-200, 200)\n",
        "    y = random.randint(-200, 200)\n",
        "    draw_shape(t, color, side_length, sides, x, y)"
      ],
      "metadata": {
        "id": "e1IskpPes75D"
      },
      "execution_count": null,
      "outputs": []
    },
    {
      "cell_type": "code",
      "source": [
        "import turtle\n",
        "import random\n",
        "\n",
        "t = turtle.Turtle()\n",
        "s = turtle.Screen()\n",
        "s.bgcolor(\"black\")\n",
        "\n",
        "def draw_star(aturtle, colour, side_length, x, y):\n",
        "    aturtle.color(colour)\n",
        "    aturtle.begin_fill()\n",
        "    aturtle.penup()\n",
        "    aturtle.goto(x, y)\n",
        "    aturtle.pendown()\n",
        "    for i in range(5): #5번 반복\n",
        "        aturtle.forward(side_length)\n",
        "        aturtle.right(144)\n",
        "        aturtle.forward(side_length)\n",
        "    aturtle.end_fill()\n",
        "\n",
        "for i in range(20): #20번 반복\n",
        "    color = random.choice([ 'white', 'yellow', 'blue', 'skyblue', 'orange', 'green' ])\n",
        "    side_length = random.randint(10, 100)\n",
        "    x = random.randint(-200, 200)\n",
        "    y = random.randint(-200, 200)\n",
        "    draw_star(t, color, side_length, x, y)"
      ],
      "metadata": {
        "id": "-jt0fVJDykS0"
      },
      "execution_count": null,
      "outputs": []
    },
    {
      "cell_type": "code",
      "source": [
        "domains={ \"kr\": \"대한민국\", \"us\": \"미국\",\"jp\": \"일본\", \"de\": \"독일\", \"sk\": \"슬로바키야\", \"hu\": \"헝가리\", \"no\": \"노르웨이\" }\n",
        "\n",
        "for k, v in domains.items():\n",
        "  print(k, \": \", v)"
      ],
      "metadata": {
        "colab": {
          "base_uri": "https://localhost:8080/"
        },
        "id": "VmKs8G0NymS4",
        "outputId": "f7e7fef9-f450-484c-cbb5-27fce0d6db5e"
      },
      "execution_count": 11,
      "outputs": [
        {
          "output_type": "stream",
          "name": "stdout",
          "text": [
            "kr :  대한민국\n",
            "us :  미국\n",
            "jp :  일본\n",
            "de :  독일\n",
            "sk :  슬로바키야\n",
            "hu :  헝가리\n",
            "no :  노르웨이\n"
          ]
        }
      ]
    },
    {
      "cell_type": "code",
      "source": [
        "problems = {'파이썬': '최근에 가장 떠오르는 프로그래밍 언어',\n",
        "              '변수': '데이터를 저장하는 메모리 공간',\n",
        "              '함수': '작업을 수행하는 문장들의 집합에 이름을 붙인것',\n",
        "              '리스트': '서로 관련이 없는 항목들의 모임',}\n",
        "def show_words(problems):\n",
        "    display_message = \"\"\n",
        "    i=1\n",
        "    for word in problems.keys():\n",
        "        display_message += \"(\"+str(i)+\")\"\n",
        "        display_message += word + \" \"\n",
        "        i+=1\n",
        "    print( display_message)\n",
        "\n",
        "for meaning in problems.values():\n",
        "    print(\"다음은 어떤 단어에 대한 설명일까요? \")\n",
        "    print(\"\\\"\"+meaning+\"\\\"\")\n",
        "    correct = False\n",
        "    while not correct:     # 답이 아니라면\n",
        "          show_words(problems)\n",
        "          guessed_word = input(\"\")\n",
        "          if problems[guessed_word] == meaning:\n",
        "              print(\"정답입니다. !\")\n",
        "              correct = True\n",
        "          else:       #또다른것은\n",
        "              print(\"정답이 아닙니다.\")"
      ],
      "metadata": {
        "colab": {
          "base_uri": "https://localhost:8080/"
        },
        "id": "ETpYxL5D3j4q",
        "outputId": "a62f1a92-633a-4470-c5d2-3ae2bdb540a6"
      },
      "execution_count": 14,
      "outputs": [
        {
          "output_type": "stream",
          "name": "stdout",
          "text": [
            "다음은 어떤 단어에 대한 설명일까요? \n",
            "\"최근에 가장 떠오르는 프로그래밍 언어\"\n",
            "(1)파이썬 (2)변수 (3)함수 (4)리스트 \n",
            "파이썬\n",
            "정답입니다. !\n",
            "다음은 어떤 단어에 대한 설명일까요? \n",
            "\"데이터를 저장하는 메모리 공간\"\n",
            "(1)파이썬 (2)변수 (3)함수 (4)리스트 \n",
            "변수\n",
            "정답입니다. !\n",
            "다음은 어떤 단어에 대한 설명일까요? \n",
            "\"작업을 수행하는 문장들의 집합에 이름을 붙인것\"\n",
            "(1)파이썬 (2)변수 (3)함수 (4)리스트 \n",
            "함수\n",
            "정답입니다. !\n",
            "다음은 어떤 단어에 대한 설명일까요? \n",
            "\"서로 관련이 없는 항목들의 모임\"\n",
            "(1)파이썬 (2)변수 (3)함수 (4)리스트 \n",
            "리스트\n",
            "정답입니다. !\n"
          ]
        }
      ]
    },
    {
      "cell_type": "markdown",
      "source": [],
      "metadata": {
        "id": "8T2KmryQ3tMR"
      }
    }
  ]
}